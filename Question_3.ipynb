{
  "nbformat": 4,
  "nbformat_minor": 0,
  "metadata": {
    "colab": {
      "provenance": []
    },
    "kernelspec": {
      "name": "python3",
      "display_name": "Python 3"
    },
    "language_info": {
      "name": "python"
    }
  },
  "cells": [
    {
      "cell_type": "markdown",
      "source": [
        "# 3) Designing a Business Intelligence Dashboard\n",
        "Title: Create a Business Intelligence Dashboard for Decision-Making Using Power BI or Tableau\n"
      ],
      "metadata": {
        "id": "39b_TSl6Br3z"
      }
    },
    {
      "cell_type": "code",
      "source": [
        "import pandas as pd\n",
        "import numpy as np\n",
        "from datetime import datetime, timedelta\n",
        "\n",
        "# Generate Sales Data\n",
        "np.random.seed(42)\n",
        "num_sales = 500\n",
        "start_date = datetime(2023, 1, 1)\n",
        "\n",
        "sales_data = {\n",
        "    \"Order ID\": [f\"ORD{1000+i}\" for i in range(num_sales)],\n",
        "    \"Date\": [start_date + timedelta(days=int(np.random.rand()*365)) for _ in range(num_sales)],\n",
        "    \"Product Category\": np.random.choice([\"Electronics\", \"Clothing\", \"Books\", \"Home\", \"Toys\"], num_sales),\n",
        "    \"Region\": np.random.choice([\"North\", \"South\", \"East\", \"West\"], num_sales),\n",
        "    \"Sales Amount\": np.round(np.random.uniform(20, 500, num_sales), 2),\n",
        "    \"Quantity Sold\": np.random.randint(1, 5, num_sales),\n",
        "}\n",
        "\n",
        "df_sales = pd.DataFrame(sales_data)\n",
        "\n",
        "# Generate Customer Reviews Data\n",
        "num_reviews = 300\n",
        "review_dates = [start_date + timedelta(days=int(np.random.rand()*365)) for _ in range(num_reviews)]\n",
        "\n",
        "customer_reviews = {\n",
        "    \"Product ID\": np.random.choice(df_sales[\"Order ID\"], num_reviews),\n",
        "    \"Rating\": np.random.randint(1, 6, num_reviews),\n",
        "    \"Review Date\": review_dates,\n",
        "    \"Customer Region\": np.random.choice([\"North\", \"South\", \"East\", \"West\"], num_reviews),\n",
        "}\n",
        "\n",
        "df_reviews = pd.DataFrame(customer_reviews)\n",
        "\n",
        "# Generate Performance Metrics Data (monthly)\n",
        "months = pd.date_range(start=\"2023-01-01\", periods=12, freq='MS')\n",
        "\n",
        "performance_metrics = {\n",
        "    \"Month\": months,\n",
        "    \"Website Traffic\": np.random.randint(2000, 10000, 12),\n",
        "    \"Conversion Rate\": np.round(np.random.uniform(0.01, 0.05, 12), 3),\n",
        "    \"Customer Acquisition Cost\": np.round(np.random.uniform(10, 50, 12), 2),\n",
        "}\n",
        "\n",
        "df_performance = pd.DataFrame(performance_metrics)\n",
        "\n",
        "# Write to Excel file with multiple sheets\n",
        "output_filename = \"business_intelligence_dataset.xlsx\"\n",
        "with pd.ExcelWriter(output_filename) as writer:\n",
        "    df_sales.to_excel(writer, sheet_name=\"Sales Data\", index=False)\n",
        "    df_reviews.to_excel(writer, sheet_name=\"Customer Reviews\", index=False)\n",
        "    df_performance.to_excel(writer, sheet_name=\"Performance Metrics\", index=False)\n",
        "\n",
        "print(f\"Dataset saved to {output_filename}\")\n"
      ],
      "metadata": {
        "colab": {
          "base_uri": "https://localhost:8080/"
        },
        "id": "dkM5kA3B7E1a",
        "outputId": "2d36a33f-8210-45da-b198-2d1f39d079fa"
      },
      "execution_count": 1,
      "outputs": [
        {
          "output_type": "stream",
          "name": "stdout",
          "text": [
            "Dataset saved to business_intelligence_dataset.xlsx\n"
          ]
        }
      ]
    },
    {
      "cell_type": "code",
      "source": [],
      "metadata": {
        "id": "1m3D6gVtEOVl"
      },
      "execution_count": null,
      "outputs": []
    }
  ]
}